{
 "cells": [
  {
   "cell_type": "code",
   "execution_count": 2,
   "source": [
    "import cv2\r\n",
    "import numpy as np\r\n",
    "\r\n",
    "image=cv2.imread('D:\\Master OpenCV\\images/soduku.jpg-» ./soduku.jpg')\r\n",
    "gray=cv2.cvtColor(image,cv2.COLOR_BGR2GRAY)\r\n",
    "\r\n",
    "edgesAccuracy1=100\r\n",
    "edgesAccuracy2=170\r\n",
    "apertureSize=3\r\n",
    "edges=cv2.Canny(gray,edgesAccuracy1,edgesAccuracy2,apertureSize)\r\n",
    "\r\n",
    "cv2.imshow('Edges image',edges)\r\n",
    "cv2.waitKey()\r\n",
    "cv2.destroyAllWindows()"
   ],
   "outputs": [],
   "metadata": {}
  },
  {
   "cell_type": "code",
   "execution_count": 4,
   "source": [
    "#Line Format\r\n",
    "rowAccuracy=1\r\n",
    "thetaAccuracy=np.pi/180\r\n",
    "threshold=240\r\n",
    "Lines=cv2.HoughLines(edges,rowAccuracy,thetaAccuracy,threshold)\r\n",
    "\r\n",
    "for line in Lines:\r\n",
    "    row,theta=line[0]\r\n",
    "    COS=np.cos(theta)\r\n",
    "    SIN=np.sin(theta)\r\n",
    "    x0=COS*row\r\n",
    "    y0=SIN*row\r\n",
    "    x1=int(x0 + 1000 * (-SIN))\r\n",
    "    y1=int(y0 + 1000 * (COS))\r\n",
    "    x2 = int(x0 - 1000 * (-SIN))\r\n",
    "    y2 = int(y0 - 1000 * (COS))\r\n",
    "    cv2.line(image,(x1,y1),(x2,y2),(0,0,255),2)\r\n",
    "\r\n",
    "cv2.imshow('Hough Lines', image)\r\n",
    "cv2.waitKey()\r\n",
    "cv2.destroyAllWindows()"
   ],
   "outputs": [],
   "metadata": {}
  },
  {
   "cell_type": "code",
   "execution_count": null,
   "source": [],
   "outputs": [],
   "metadata": {}
  }
 ],
 "metadata": {
  "kernelspec": {
   "name": "python3",
   "display_name": "Python 3.7.11 64-bit ('env_Sid': conda)"
  },
  "language_info": {
   "codemirror_mode": {
    "name": "ipython",
    "version": 3
   },
   "file_extension": ".py",
   "mimetype": "text/x-python",
   "name": "python",
   "nbconvert_exporter": "python",
   "pygments_lexer": "ipython3",
   "version": "3.7.11"
  },
  "interpreter": {
   "hash": "511daa53619a63ccb134bffdc4ca5e1c075c5dfa2efe36fe9fcb0f380b7f8730"
  }
 },
 "nbformat": 4,
 "nbformat_minor": 5
}